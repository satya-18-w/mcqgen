{
 "cells": [
  {
   "cell_type": "code",
   "execution_count": 1,
   "metadata": {},
   "outputs": [],
   "source": [
    "import os\n",
    "import json\n",
    "import pandas as pd\n",
    "import traceback"
   ]
  },
  {
   "cell_type": "code",
   "execution_count": 2,
   "metadata": {},
   "outputs": [],
   "source": [
    "from langchain.chat_models import ChatOpenAI"
   ]
  },
  {
   "cell_type": "code",
   "execution_count": 3,
   "metadata": {},
   "outputs": [
    {
     "name": "stdout",
     "output_type": "stream",
     "text": [
      "Requirement already satisfied: langchain_community in c:\\anaconda3\\envs\\mcq\\lib\\site-packages (0.3.13)\n",
      "Requirement already satisfied: PyYAML>=5.3 in c:\\anaconda3\\envs\\mcq\\lib\\site-packages (from langchain_community) (6.0.2)\n",
      "Requirement already satisfied: SQLAlchemy<3,>=1.4 in c:\\anaconda3\\envs\\mcq\\lib\\site-packages (from langchain_community) (2.0.36)\n",
      "Requirement already satisfied: aiohttp<4.0.0,>=3.8.3 in c:\\anaconda3\\envs\\mcq\\lib\\site-packages (from langchain_community) (3.11.11)\n",
      "Requirement already satisfied: dataclasses-json<0.7,>=0.5.7 in c:\\anaconda3\\envs\\mcq\\lib\\site-packages (from langchain_community) (0.6.7)\n",
      "Requirement already satisfied: httpx-sse<0.5.0,>=0.4.0 in c:\\anaconda3\\envs\\mcq\\lib\\site-packages (from langchain_community) (0.4.0)\n",
      "Requirement already satisfied: langchain<0.4.0,>=0.3.13 in c:\\anaconda3\\envs\\mcq\\lib\\site-packages (from langchain_community) (0.3.13)\n",
      "Requirement already satisfied: langchain-core<0.4.0,>=0.3.27 in c:\\anaconda3\\envs\\mcq\\lib\\site-packages (from langchain_community) (0.3.28)\n",
      "Requirement already satisfied: langsmith<0.3,>=0.1.125 in c:\\anaconda3\\envs\\mcq\\lib\\site-packages (from langchain_community) (0.2.6)\n",
      "Requirement already satisfied: numpy<2,>=1.22.4 in c:\\anaconda3\\envs\\mcq\\lib\\site-packages (from langchain_community) (1.26.4)\n",
      "Requirement already satisfied: pydantic-settings<3.0.0,>=2.4.0 in c:\\anaconda3\\envs\\mcq\\lib\\site-packages (from langchain_community) (2.7.0)\n",
      "Requirement already satisfied: requests<3,>=2 in c:\\anaconda3\\envs\\mcq\\lib\\site-packages (from langchain_community) (2.32.3)\n",
      "Requirement already satisfied: tenacity!=8.4.0,<10,>=8.1.0 in c:\\anaconda3\\envs\\mcq\\lib\\site-packages (from langchain_community) (8.5.0)\n",
      "Requirement already satisfied: aiohappyeyeballs>=2.3.0 in c:\\anaconda3\\envs\\mcq\\lib\\site-packages (from aiohttp<4.0.0,>=3.8.3->langchain_community) (2.4.4)\n",
      "Requirement already satisfied: aiosignal>=1.1.2 in c:\\anaconda3\\envs\\mcq\\lib\\site-packages (from aiohttp<4.0.0,>=3.8.3->langchain_community) (1.3.2)\n",
      "Requirement already satisfied: attrs>=17.3.0 in c:\\anaconda3\\envs\\mcq\\lib\\site-packages (from aiohttp<4.0.0,>=3.8.3->langchain_community) (24.3.0)\n",
      "Requirement already satisfied: frozenlist>=1.1.1 in c:\\anaconda3\\envs\\mcq\\lib\\site-packages (from aiohttp<4.0.0,>=3.8.3->langchain_community) (1.5.0)\n",
      "Requirement already satisfied: multidict<7.0,>=4.5 in c:\\anaconda3\\envs\\mcq\\lib\\site-packages (from aiohttp<4.0.0,>=3.8.3->langchain_community) (6.1.0)\n",
      "Requirement already satisfied: propcache>=0.2.0 in c:\\anaconda3\\envs\\mcq\\lib\\site-packages (from aiohttp<4.0.0,>=3.8.3->langchain_community) (0.2.1)\n",
      "Requirement already satisfied: yarl<2.0,>=1.17.0 in c:\\anaconda3\\envs\\mcq\\lib\\site-packages (from aiohttp<4.0.0,>=3.8.3->langchain_community) (1.18.3)\n",
      "Requirement already satisfied: marshmallow<4.0.0,>=3.18.0 in c:\\anaconda3\\envs\\mcq\\lib\\site-packages (from dataclasses-json<0.7,>=0.5.7->langchain_community) (3.23.2)\n",
      "Requirement already satisfied: typing-inspect<1,>=0.4.0 in c:\\anaconda3\\envs\\mcq\\lib\\site-packages (from dataclasses-json<0.7,>=0.5.7->langchain_community) (0.9.0)\n",
      "Requirement already satisfied: langchain-text-splitters<0.4.0,>=0.3.3 in c:\\anaconda3\\envs\\mcq\\lib\\site-packages (from langchain<0.4.0,>=0.3.13->langchain_community) (0.3.4)\n",
      "Requirement already satisfied: pydantic<3.0.0,>=2.7.4 in c:\\anaconda3\\envs\\mcq\\lib\\site-packages (from langchain<0.4.0,>=0.3.13->langchain_community) (2.10.4)\n",
      "Requirement already satisfied: jsonpatch<2.0,>=1.33 in c:\\anaconda3\\envs\\mcq\\lib\\site-packages (from langchain-core<0.4.0,>=0.3.27->langchain_community) (1.33)\n",
      "Requirement already satisfied: packaging<25,>=23.2 in c:\\anaconda3\\envs\\mcq\\lib\\site-packages (from langchain-core<0.4.0,>=0.3.27->langchain_community) (24.2)\n",
      "Requirement already satisfied: typing-extensions>=4.7 in c:\\anaconda3\\envs\\mcq\\lib\\site-packages (from langchain-core<0.4.0,>=0.3.27->langchain_community) (4.12.2)\n",
      "Requirement already satisfied: httpx<1,>=0.23.0 in c:\\anaconda3\\envs\\mcq\\lib\\site-packages (from langsmith<0.3,>=0.1.125->langchain_community) (0.27.2)\n",
      "Requirement already satisfied: orjson<4.0.0,>=3.9.14 in c:\\anaconda3\\envs\\mcq\\lib\\site-packages (from langsmith<0.3,>=0.1.125->langchain_community) (3.10.12)\n",
      "Requirement already satisfied: requests-toolbelt<2.0.0,>=1.0.0 in c:\\anaconda3\\envs\\mcq\\lib\\site-packages (from langsmith<0.3,>=0.1.125->langchain_community) (1.0.0)\n",
      "Requirement already satisfied: python-dotenv>=0.21.0 in c:\\anaconda3\\envs\\mcq\\lib\\site-packages (from pydantic-settings<3.0.0,>=2.4.0->langchain_community) (1.0.1)\n",
      "Requirement already satisfied: charset-normalizer<4,>=2 in c:\\anaconda3\\envs\\mcq\\lib\\site-packages (from requests<3,>=2->langchain_community) (3.4.1)\n",
      "Requirement already satisfied: idna<4,>=2.5 in c:\\anaconda3\\envs\\mcq\\lib\\site-packages (from requests<3,>=2->langchain_community) (3.10)\n",
      "Requirement already satisfied: urllib3<3,>=1.21.1 in c:\\anaconda3\\envs\\mcq\\lib\\site-packages (from requests<3,>=2->langchain_community) (2.3.0)\n",
      "Requirement already satisfied: certifi>=2017.4.17 in c:\\anaconda3\\envs\\mcq\\lib\\site-packages (from requests<3,>=2->langchain_community) (2024.12.14)\n",
      "Requirement already satisfied: greenlet!=0.4.17 in c:\\anaconda3\\envs\\mcq\\lib\\site-packages (from SQLAlchemy<3,>=1.4->langchain_community) (3.1.1)\n",
      "Requirement already satisfied: anyio in c:\\anaconda3\\envs\\mcq\\lib\\site-packages (from httpx<1,>=0.23.0->langsmith<0.3,>=0.1.125->langchain_community) (4.7.0)\n",
      "Requirement already satisfied: httpcore==1.* in c:\\anaconda3\\envs\\mcq\\lib\\site-packages (from httpx<1,>=0.23.0->langsmith<0.3,>=0.1.125->langchain_community) (1.0.7)\n",
      "Requirement already satisfied: sniffio in c:\\anaconda3\\envs\\mcq\\lib\\site-packages (from httpx<1,>=0.23.0->langsmith<0.3,>=0.1.125->langchain_community) (1.3.1)\n",
      "Requirement already satisfied: h11<0.15,>=0.13 in c:\\anaconda3\\envs\\mcq\\lib\\site-packages (from httpcore==1.*->httpx<1,>=0.23.0->langsmith<0.3,>=0.1.125->langchain_community) (0.14.0)\n",
      "Requirement already satisfied: jsonpointer>=1.9 in c:\\anaconda3\\envs\\mcq\\lib\\site-packages (from jsonpatch<2.0,>=1.33->langchain-core<0.4.0,>=0.3.27->langchain_community) (3.0.0)\n",
      "Requirement already satisfied: annotated-types>=0.6.0 in c:\\anaconda3\\envs\\mcq\\lib\\site-packages (from pydantic<3.0.0,>=2.7.4->langchain<0.4.0,>=0.3.13->langchain_community) (0.7.0)\n",
      "Requirement already satisfied: pydantic-core==2.27.2 in c:\\anaconda3\\envs\\mcq\\lib\\site-packages (from pydantic<3.0.0,>=2.7.4->langchain<0.4.0,>=0.3.13->langchain_community) (2.27.2)\n",
      "Requirement already satisfied: mypy-extensions>=0.3.0 in c:\\anaconda3\\envs\\mcq\\lib\\site-packages (from typing-inspect<1,>=0.4.0->dataclasses-json<0.7,>=0.5.7->langchain_community) (1.0.0)\n",
      "Note: you may need to restart the kernel to use updated packages.\n"
     ]
    }
   ],
   "source": [
    "pip install langchain_community"
   ]
  },
  {
   "cell_type": "code",
   "execution_count": null,
   "metadata": {},
   "outputs": [],
   "source": [
    "llm=ChatOpenAI()"
   ]
  },
  {
   "cell_type": "code",
   "execution_count": 6,
   "metadata": {},
   "outputs": [],
   "source": [
    "load_dotenv()\n",
    "api_key=os.getenv(\"AI21_API_KEY\")"
   ]
  },
  {
   "cell_type": "code",
   "execution_count": 5,
   "metadata": {},
   "outputs": [],
   "source": [
    "from dotenv import load_dotenv\n"
   ]
  },
  {
   "cell_type": "code",
   "execution_count": 7,
   "metadata": {},
   "outputs": [
    {
     "name": "stdout",
     "output_type": "stream",
     "text": [
      "Requirement already satisfied: langchain_ai21 in c:\\anaconda3\\envs\\mcq\\lib\\site-packages (1.0.1)\n",
      "Requirement already satisfied: ai21<4.0.0,>=3.0.0 in c:\\anaconda3\\envs\\mcq\\lib\\site-packages (from langchain_ai21) (3.0.1)\n",
      "Requirement already satisfied: langchain-core<0.4,>=0.3 in c:\\anaconda3\\envs\\mcq\\lib\\site-packages (from langchain_ai21) (0.3.28)\n",
      "Requirement already satisfied: ai21-tokenizer<1.0.0,>=0.12.0 in c:\\anaconda3\\envs\\mcq\\lib\\site-packages (from ai21<4.0.0,>=3.0.0->langchain_ai21) (0.12.0)\n",
      "Requirement already satisfied: httpx<0.28.0,>=0.27.0 in c:\\anaconda3\\envs\\mcq\\lib\\site-packages (from ai21<4.0.0,>=3.0.0->langchain_ai21) (0.27.2)\n",
      "Requirement already satisfied: pydantic<3.0.0,>=1.9.0 in c:\\anaconda3\\envs\\mcq\\lib\\site-packages (from ai21<4.0.0,>=3.0.0->langchain_ai21) (2.10.4)\n",
      "Requirement already satisfied: tenacity<9.0.0,>=8.3.0 in c:\\anaconda3\\envs\\mcq\\lib\\site-packages (from ai21<4.0.0,>=3.0.0->langchain_ai21) (8.5.0)\n",
      "Requirement already satisfied: typing-extensions<5.0.0,>=4.9.0 in c:\\anaconda3\\envs\\mcq\\lib\\site-packages (from ai21<4.0.0,>=3.0.0->langchain_ai21) (4.12.2)\n",
      "Requirement already satisfied: PyYAML>=5.3 in c:\\anaconda3\\envs\\mcq\\lib\\site-packages (from langchain-core<0.4,>=0.3->langchain_ai21) (6.0.2)\n",
      "Requirement already satisfied: jsonpatch<2.0,>=1.33 in c:\\anaconda3\\envs\\mcq\\lib\\site-packages (from langchain-core<0.4,>=0.3->langchain_ai21) (1.33)\n",
      "Requirement already satisfied: langsmith<0.3,>=0.1.125 in c:\\anaconda3\\envs\\mcq\\lib\\site-packages (from langchain-core<0.4,>=0.3->langchain_ai21) (0.2.6)\n",
      "Requirement already satisfied: packaging<25,>=23.2 in c:\\anaconda3\\envs\\mcq\\lib\\site-packages (from langchain-core<0.4,>=0.3->langchain_ai21) (24.2)\n",
      "Requirement already satisfied: anyio<5.0.0,>=4.4.0 in c:\\anaconda3\\envs\\mcq\\lib\\site-packages (from ai21-tokenizer<1.0.0,>=0.12.0->ai21<4.0.0,>=3.0.0->langchain_ai21) (4.7.0)\n",
      "Requirement already satisfied: sentencepiece<1.0.0,>=0.2.0 in c:\\anaconda3\\envs\\mcq\\lib\\site-packages (from ai21-tokenizer<1.0.0,>=0.12.0->ai21<4.0.0,>=3.0.0->langchain_ai21) (0.2.0)\n",
      "Requirement already satisfied: tokenizers<1.0.0,>=0.15.0 in c:\\anaconda3\\envs\\mcq\\lib\\site-packages (from ai21-tokenizer<1.0.0,>=0.12.0->ai21<4.0.0,>=3.0.0->langchain_ai21) (0.21.0)\n",
      "Requirement already satisfied: certifi in c:\\anaconda3\\envs\\mcq\\lib\\site-packages (from httpx<0.28.0,>=0.27.0->ai21<4.0.0,>=3.0.0->langchain_ai21) (2024.12.14)\n",
      "Requirement already satisfied: httpcore==1.* in c:\\anaconda3\\envs\\mcq\\lib\\site-packages (from httpx<0.28.0,>=0.27.0->ai21<4.0.0,>=3.0.0->langchain_ai21) (1.0.7)\n",
      "Requirement already satisfied: idna in c:\\anaconda3\\envs\\mcq\\lib\\site-packages (from httpx<0.28.0,>=0.27.0->ai21<4.0.0,>=3.0.0->langchain_ai21) (3.10)\n",
      "Requirement already satisfied: sniffio in c:\\anaconda3\\envs\\mcq\\lib\\site-packages (from httpx<0.28.0,>=0.27.0->ai21<4.0.0,>=3.0.0->langchain_ai21) (1.3.1)\n",
      "Requirement already satisfied: h11<0.15,>=0.13 in c:\\anaconda3\\envs\\mcq\\lib\\site-packages (from httpcore==1.*->httpx<0.28.0,>=0.27.0->ai21<4.0.0,>=3.0.0->langchain_ai21) (0.14.0)\n",
      "Requirement already satisfied: jsonpointer>=1.9 in c:\\anaconda3\\envs\\mcq\\lib\\site-packages (from jsonpatch<2.0,>=1.33->langchain-core<0.4,>=0.3->langchain_ai21) (3.0.0)\n",
      "Requirement already satisfied: orjson<4.0.0,>=3.9.14 in c:\\anaconda3\\envs\\mcq\\lib\\site-packages (from langsmith<0.3,>=0.1.125->langchain-core<0.4,>=0.3->langchain_ai21) (3.10.12)\n",
      "Requirement already satisfied: requests<3,>=2 in c:\\anaconda3\\envs\\mcq\\lib\\site-packages (from langsmith<0.3,>=0.1.125->langchain-core<0.4,>=0.3->langchain_ai21) (2.32.3)\n",
      "Requirement already satisfied: requests-toolbelt<2.0.0,>=1.0.0 in c:\\anaconda3\\envs\\mcq\\lib\\site-packages (from langsmith<0.3,>=0.1.125->langchain-core<0.4,>=0.3->langchain_ai21) (1.0.0)\n",
      "Requirement already satisfied: annotated-types>=0.6.0 in c:\\anaconda3\\envs\\mcq\\lib\\site-packages (from pydantic<3.0.0,>=1.9.0->ai21<4.0.0,>=3.0.0->langchain_ai21) (0.7.0)\n",
      "Requirement already satisfied: pydantic-core==2.27.2 in c:\\anaconda3\\envs\\mcq\\lib\\site-packages (from pydantic<3.0.0,>=1.9.0->ai21<4.0.0,>=3.0.0->langchain_ai21) (2.27.2)\n",
      "Requirement already satisfied: charset-normalizer<4,>=2 in c:\\anaconda3\\envs\\mcq\\lib\\site-packages (from requests<3,>=2->langsmith<0.3,>=0.1.125->langchain-core<0.4,>=0.3->langchain_ai21) (3.4.1)\n",
      "Requirement already satisfied: urllib3<3,>=1.21.1 in c:\\anaconda3\\envs\\mcq\\lib\\site-packages (from requests<3,>=2->langsmith<0.3,>=0.1.125->langchain-core<0.4,>=0.3->langchain_ai21) (2.3.0)\n",
      "Requirement already satisfied: huggingface-hub<1.0,>=0.16.4 in c:\\anaconda3\\envs\\mcq\\lib\\site-packages (from tokenizers<1.0.0,>=0.15.0->ai21-tokenizer<1.0.0,>=0.12.0->ai21<4.0.0,>=3.0.0->langchain_ai21) (0.27.0)\n",
      "Requirement already satisfied: filelock in c:\\anaconda3\\envs\\mcq\\lib\\site-packages (from huggingface-hub<1.0,>=0.16.4->tokenizers<1.0.0,>=0.15.0->ai21-tokenizer<1.0.0,>=0.12.0->ai21<4.0.0,>=3.0.0->langchain_ai21) (3.16.1)\n",
      "Requirement already satisfied: fsspec>=2023.5.0 in c:\\anaconda3\\envs\\mcq\\lib\\site-packages (from huggingface-hub<1.0,>=0.16.4->tokenizers<1.0.0,>=0.15.0->ai21-tokenizer<1.0.0,>=0.12.0->ai21<4.0.0,>=3.0.0->langchain_ai21) (2024.12.0)\n",
      "Requirement already satisfied: tqdm>=4.42.1 in c:\\anaconda3\\envs\\mcq\\lib\\site-packages (from huggingface-hub<1.0,>=0.16.4->tokenizers<1.0.0,>=0.15.0->ai21-tokenizer<1.0.0,>=0.12.0->ai21<4.0.0,>=3.0.0->langchain_ai21) (4.67.1)\n",
      "Requirement already satisfied: colorama in c:\\anaconda3\\envs\\mcq\\lib\\site-packages (from tqdm>=4.42.1->huggingface-hub<1.0,>=0.16.4->tokenizers<1.0.0,>=0.15.0->ai21-tokenizer<1.0.0,>=0.12.0->ai21<4.0.0,>=3.0.0->langchain_ai21) (0.4.6)\n",
      "Note: you may need to restart the kernel to use updated packages.\n"
     ]
    }
   ],
   "source": [
    "pip install langchain_ai21"
   ]
  },
  {
   "cell_type": "code",
   "execution_count": 115,
   "metadata": {},
   "outputs": [],
   "source": [
    "from langchain_ai21 import ChatAI21\n",
    "\n",
    "\n",
    "llm = ChatAI21(api_key=api_key,model=\"jamba-instruct\", temperature=0.7,max_tokens=1000)"
   ]
  },
  {
   "cell_type": "code",
   "execution_count": 116,
   "metadata": {},
   "outputs": [
    {
     "data": {
      "text/plain": [
       "'Droupadi Murmu is the current President of India, having assumed office on July 25, 2022. She is the 15th President of India and the first female tribal leader to hold this position.'"
      ]
     },
     "execution_count": 116,
     "metadata": {},
     "output_type": "execute_result"
    }
   ],
   "source": [
    "llm.invoke(\"What is the name of president of india ?\").content"
   ]
  },
  {
   "cell_type": "code",
   "execution_count": 20,
   "metadata": {},
   "outputs": [],
   "source": [
    "from langchain.prompts import PromptTemplate\n",
    "from langchain.chains import LLMChain\n",
    "from langchain.chains import SequentialChain\n",
    "import PyPDF2"
   ]
  },
  {
   "cell_type": "code",
   "execution_count": 8,
   "metadata": {},
   "outputs": [],
   "source": [
    "from langchain.llms import OpenAI\n",
    "from langchain.prompts import PromptTemplate\n",
    "from langchain.chains import LLMChain\n",
    "from langchain.chains import SequentialChain\n",
    "from langchain.callbacks import get_openai_callback"
   ]
  },
  {
   "cell_type": "code",
   "execution_count": 9,
   "metadata": {},
   "outputs": [],
   "source": [
    "template=PromptTemplate.from_template(\"\"\"\n",
    "                             Text:{text}\n",
    "                             you are an expert mcq maker.given the above text, it is your job to \\\n",
    "                             create a quiz of {number} multiple choice question for {subject} students in {tone} tone.\n",
    "                             make sure the question are not repeated and check all the questions to be confirming the text as well.\n",
    "                             make sure to format your response like RESPONSE_JSON below and use it as a guide. \\\n",
    "                             ensure to make {number} mcqs\n",
    "                             ### RESPONSE_JSON\n",
    "                             {response_json}\"\"\")"
   ]
  },
  {
   "cell_type": "code",
   "execution_count": 63,
   "metadata": {},
   "outputs": [],
   "source": [
    "RESPONSE_JSON={\n",
    "    \"1\":{\n",
    "        \"mcq\":\"multiple choice question\",\n",
    "        \"options\":{\n",
    "            \"a\":\"choice here\",\n",
    "            \"b\":\"choice here\",\n",
    "            \"c\":\"choice here\",\n",
    "            \"d\":\"choice here\",\n",
    "        },\n",
    "        \"correct\":\"correct answer\",\n",
    "    },\n",
    "    \"2\":{\n",
    "        \"mcq\":\"multiple choice question\",\n",
    "        \"options\":{\n",
    "            \"a\":\"choice here\",\n",
    "            \"b\":\"choice here\",\n",
    "            \"c\":\"choice here\",\n",
    "            \"d\":\"choice here\",\n",
    "        },\n",
    "        \"correct\":\"correct answer\",\n",
    "    },\n",
    "    \"3\":{\n",
    "        \"mcq\":\"multiple choice question\",\n",
    "        \"options\":{\n",
    "            \"a\":\"choice here\",\n",
    "            \"b\":\"choice here\",\n",
    "            \"c\":\"choice here\",\n",
    "            \"d\":\"choice here\",\n",
    "        },\n",
    "        \"correct\":\"correct answer\",\n",
    "    },\n",
    "}"
   ]
  },
  {
   "cell_type": "code",
   "execution_count": 117,
   "metadata": {},
   "outputs": [],
   "source": [
    "chain=LLMChain(llm=llm,prompt=template,output_key=\"quiz\",verbose=True)"
   ]
  },
  {
   "cell_type": "code",
   "execution_count": 65,
   "metadata": {},
   "outputs": [],
   "source": [
    "template2=PromptTemplate.from_template(\"\"\"\n",
    "                                       \n",
    "          you are an expert english grammarian and writer.given a multiple choice quiz for {subject} students. \\\n",
    "          you need to evaluate the complexity of the question and give a complete analysis of the quiz. only at max 50 words for complexity.\n",
    "          if the quiz is not at per the cognitive and analytical abilities of the students, \\\n",
    "              update the quiz question which need to be changed the tone such that it perfectly fitsthe student abilities\n",
    "              \n",
    "              Quiz_MCQS:\n",
    "              {quiz}\n",
    "              \n",
    "              check from an expert english writer of the above quiz                             \n",
    "                                       \"\"\")"
   ]
  },
  {
   "cell_type": "code",
   "execution_count": 118,
   "metadata": {},
   "outputs": [],
   "source": [
    "review_chain=LLMChain(llm=llm,prompt=template2,output_key=\"review\",verbose=True)"
   ]
  },
  {
   "cell_type": "code",
   "execution_count": null,
   "metadata": {},
   "outputs": [],
   "source": []
  },
  {
   "cell_type": "code",
   "execution_count": 119,
   "metadata": {},
   "outputs": [],
   "source": [
    "generate_evaluate_chain=SequentialChain(\n",
    "    chains=[chain,review_chain],\n",
    "    \n",
    "    input_variables=[\"text\",\"number\",\"subject\",\"tone\",\"response_json\"],\n",
    "    output_variables=[\"quiz\",\"review\"],\n",
    "    verbose=True\n",
    ")"
   ]
  },
  {
   "cell_type": "code",
   "execution_count": 120,
   "metadata": {},
   "outputs": [],
   "source": [
    "file_path=r\"C:\\Users\\Satyajit Samal\\OneDrive\\Desktop\\Comunity Session\\mcqgen\\data.txt\""
   ]
  },
  {
   "cell_type": "code",
   "execution_count": 121,
   "metadata": {},
   "outputs": [],
   "source": [
    "with open(file_path,\"r\") as file:\n",
    "    TEXT=file.read()"
   ]
  },
  {
   "cell_type": "code",
   "execution_count": 122,
   "metadata": {},
   "outputs": [],
   "source": [
    "NUMBER=10\n",
    "SUBJECT=\"MACHINE LEARNING\"\n",
    "TONE=\"intermediate\""
   ]
  },
  {
   "cell_type": "code",
   "execution_count": null,
   "metadata": {},
   "outputs": [],
   "source": []
  },
  {
   "cell_type": "code",
   "execution_count": 23,
   "metadata": {},
   "outputs": [
    {
     "data": {
      "text/plain": [
       "'The term machine learning was coined in 1959 by Arthur Samuel, an IBM employee and pioneer in the field of computer gaming and artificial intelligence.[8][9] The synonym self-teaching computers was also used in this time period.[10][11]\\n\\nAlthough the earliest machine learning model was introduced in the 1950s when Arthur Samuel invented a program that calculated the winning chance in checkers for each side, the history of machine learning roots back to decades of human desire and effort to study human cognitive processes.[12] In 1949, Canadian psychologist Donald Hebb published the book The Organization of Behavior, in which he introduced a theoretical neural structure formed by certain interactions among nerve cells.[13] Hebb\\'s model of neurons interacting with one another set a groundwork for how AIs and machine learning algorithms work under nodes, or artificial neurons used by computers to communicate data.[12] Other researchers who have studied human cognitive systems contributed to the modern machine learning technologies as well, including logician Walter Pitts and Warren McCulloch, who proposed the early mathematical models of neural networks to come up with algorithms that mirror human thought processes.[12]\\n\\nBy the early 1960s, an experimental \"learning machine\" with punched tape memory, called Cybertron, had been developed by Raytheon Company to analyze sonar signals, electrocardiograms, and speech patterns using rudimentary reinforcement learning. It was repetitively \"trained\" by a human operator/teacher to recognize patterns and equipped with a \"goof\" button to cause it to reevaluate incorrect decisions.[14] A representative book on research into machine learning during the 1960s was Nilsson\\'s book on Learning Machines, dealing mostly with machine learning for pattern classification.[15] Interest related to pattern recognition continued into the 1970s, as described by Duda and Hart in 1973.[16] In 1981 a report was given on using teaching strategies so that an artificial neural network learns to recognize 40 characters (26 letters, 10 digits, and 4 special symbols) from a computer terminal.[17]\\n\\nTom M. Mitchell provided a widely quoted, more formal definition of the algorithms studied in the machine learning field: \"A computer program is said to learn from experience E with respect to some class of tasks T and performance measure P if its performance at tasks in T, as measured by P, improves with experience E.\"[18] This definition of the tasks in which machine learning is concerned offers a fundamentally operational definition rather than defining the field in cognitive terms. This follows Alan Turing\\'s proposal in his paper \"Computing Machinery and Intelligence\", in which the question \"Can machines think?\" is replaced with the question \"Can machines do what we (as thinking entities) can do?\".[19]\\n\\nModern-day machine learning has two objectives. One is to classify data based on models which have been developed; the other purpose is to make predictions for future outcomes based on these models. A hypothetical algorithm specific to classifying data may use computer vision of moles coupled with supervised learning in order to train it to classify the cancerous moles. A machine learning algorithm for stock trading may inform the trader of future potential predictions.[20]'"
      ]
     },
     "execution_count": 23,
     "metadata": {},
     "output_type": "execute_result"
    }
   ],
   "source": [
    "TEXT"
   ]
  },
  {
   "cell_type": "code",
   "execution_count": 71,
   "metadata": {},
   "outputs": [
    {
     "data": {
      "text/plain": [
       "'{\"1\": {\"mcq\": \"multiple choice question\", \"options\": {\"a\": \"choice here\", \"b\": \"choice here\", \"c\": \"choice here\", \"d\": \"choice here\"}, \"correct\": \"correct answer\"}, \"2\": {\"mcq\": \"multiple choice question\", \"options\": {\"a\": \"choice here\", \"b\": \"choice here\", \"c\": \"choice here\", \"d\": \"choice here\"}, \"correct\": \"correct answer\"}, \"3\": {\"mcq\": \"multiple choice question\", \"options\": {\"a\": \"choice here\", \"b\": \"choice here\", \"c\": \"choice here\", \"d\": \"choice here\"}, \"correct\": \"correct answer\"}}'"
      ]
     },
     "execution_count": 71,
     "metadata": {},
     "output_type": "execute_result"
    }
   ],
   "source": [
    "json.dumps(RESPONSE_JSON)"
   ]
  },
  {
   "cell_type": "code",
   "execution_count": 123,
   "metadata": {},
   "outputs": [
    {
     "name": "stdout",
     "output_type": "stream",
     "text": [
      "\n",
      "\n",
      "\u001b[1m> Entering new SequentialChain chain...\u001b[0m\n",
      "\n",
      "\n",
      "\u001b[1m> Entering new LLMChain chain...\u001b[0m\n",
      "Prompt after formatting:\n",
      "\u001b[32;1m\u001b[1;3m\n",
      "                             Text:The term machine learning was coined in 1959 by Arthur Samuel, an IBM employee and pioneer in the field of computer gaming and artificial intelligence.[8][9] The synonym self-teaching computers was also used in this time period.[10][11]\n",
      "\n",
      "Although the earliest machine learning model was introduced in the 1950s when Arthur Samuel invented a program that calculated the winning chance in checkers for each side, the history of machine learning roots back to decades of human desire and effort to study human cognitive processes.[12] In 1949, Canadian psychologist Donald Hebb published the book The Organization of Behavior, in which he introduced a theoretical neural structure formed by certain interactions among nerve cells.[13] Hebb's model of neurons interacting with one another set a groundwork for how AIs and machine learning algorithms work under nodes, or artificial neurons used by computers to communicate data.[12] Other researchers who have studied human cognitive systems contributed to the modern machine learning technologies as well, including logician Walter Pitts and Warren McCulloch, who proposed the early mathematical models of neural networks to come up with algorithms that mirror human thought processes.[12]\n",
      "\n",
      "By the early 1960s, an experimental \"learning machine\" with punched tape memory, called Cybertron, had been developed by Raytheon Company to analyze sonar signals, electrocardiograms, and speech patterns using rudimentary reinforcement learning. It was repetitively \"trained\" by a human operator/teacher to recognize patterns and equipped with a \"goof\" button to cause it to reevaluate incorrect decisions.[14] A representative book on research into machine learning during the 1960s was Nilsson's book on Learning Machines, dealing mostly with machine learning for pattern classification.[15] Interest related to pattern recognition continued into the 1970s, as described by Duda and Hart in 1973.[16] In 1981 a report was given on using teaching strategies so that an artificial neural network learns to recognize 40 characters (26 letters, 10 digits, and 4 special symbols) from a computer terminal.[17]\n",
      "\n",
      "Tom M. Mitchell provided a widely quoted, more formal definition of the algorithms studied in the machine learning field: \"A computer program is said to learn from experience E with respect to some class of tasks T and performance measure P if its performance at tasks in T, as measured by P, improves with experience E.\"[18] This definition of the tasks in which machine learning is concerned offers a fundamentally operational definition rather than defining the field in cognitive terms. This follows Alan Turing's proposal in his paper \"Computing Machinery and Intelligence\", in which the question \"Can machines think?\" is replaced with the question \"Can machines do what we (as thinking entities) can do?\".[19]\n",
      "\n",
      "Modern-day machine learning has two objectives. One is to classify data based on models which have been developed; the other purpose is to make predictions for future outcomes based on these models. A hypothetical algorithm specific to classifying data may use computer vision of moles coupled with supervised learning in order to train it to classify the cancerous moles. A machine learning algorithm for stock trading may inform the trader of future potential predictions.[20]\n",
      "                             you are an expert mcq maker.given the above text, it is your job to                              create a quiz of 10 multiple choice question for MACHINE LEARNING students in intermediate tone.\n",
      "                             make sure the question are not repeated and check all the questions to be confirming the text as well.\n",
      "                             make sure to format your response like RESPONSE_JSON below and use it as a guide.                              ensure to make 10 mcqs\n",
      "                             ### RESPONSE_JSON\n",
      "                             {\"1\": {\"mcq\": \"multiple choice question\", \"options\": {\"a\": \"choice here\", \"b\": \"choice here\", \"c\": \"choice here\", \"d\": \"choice here\"}, \"correct\": \"correct answer\"}, \"2\": {\"mcq\": \"multiple choice question\", \"options\": {\"a\": \"choice here\", \"b\": \"choice here\", \"c\": \"choice here\", \"d\": \"choice here\"}, \"correct\": \"correct answer\"}, \"3\": {\"mcq\": \"multiple choice question\", \"options\": {\"a\": \"choice here\", \"b\": \"choice here\", \"c\": \"choice here\", \"d\": \"choice here\"}, \"correct\": \"correct answer\"}}\u001b[0m\n",
      "\n",
      "\u001b[1m> Finished chain.\u001b[0m\n",
      "\n",
      "\n",
      "\u001b[1m> Entering new LLMChain chain...\u001b[0m\n",
      "Prompt after formatting:\n",
      "\u001b[32;1m\u001b[1;3m\n",
      "                                       \n",
      "          you are an expert english grammarian and writer.given a multiple choice quiz for MACHINE LEARNING students.           you need to evaluate the complexity of the question and give a complete analysis of the quiz. only at max 50 words for complexity.\n",
      "          if the quiz is not at per the cognitive and analytical abilities of the students,               update the quiz question which need to be changed the tone such that it perfectly fitsthe student abilities\n",
      "              \n",
      "              Quiz_MCQS:\n",
      "              ```json\n",
      "{\n",
      "  \"1\": {\n",
      "    \"mcq\": \"The term machine learning was coined in which year?\",\n",
      "    \"options\": {\n",
      "      \"a\": \"1959\",\n",
      "      \"b\": \"1961\",\n",
      "      \"c\": \"1950\",\n",
      "      \"d\": \"1970\"\n",
      "    },\n",
      "    \"correct\": \"a\"\n",
      "  },\n",
      "  \"2\": {\n",
      "    \"mcq\": \"Who coined the term machine learning?\",\n",
      "    \"options\": {\n",
      "      \"a\": \"Arthur Samuel\",\n",
      "      \"b\": \"Donald Hebb\",\n",
      "      \"c\": \"Walter Pitts\",\n",
      "      \"d\": \"Warren McCulloch\"\n",
      "    },\n",
      "    \"correct\": \"a\"\n",
      "  },\n",
      "  \"3\": {\n",
      "    \"mcq\": \"What synonym was used for machine learning in the time period mentioned?\",\n",
      "    \"options\": {\n",
      "      \"a\": \"Self-teaching computers\",\n",
      "      \"b\": \"Artificial intelligence\",\n",
      "      \"c\": \"Computer gaming\",\n",
      "      \"d\": \"Pattern recognition\"\n",
      "    },\n",
      "    \"correct\": \"a\"\n",
      "  },\n",
      "  \"4\": {\n",
      "    \"mcq\": \"When was the earliest machine learning model introduced?\",\n",
      "    \"options\": {\n",
      "      \"a\": \"1950s\",\n",
      "      \"b\": \"1940s\",\n",
      "      \"c\": \"1960s\",\n",
      "      \"d\": \"1980s\"\n",
      "    },\n",
      "    \"correct\": \"a\"\n",
      "  },\n",
      "  \"5\": {\n",
      "    \"mcq\": \"Who invented the program that calculated the winning chance in checkers for each side?\",\n",
      "    \"options\": {\n",
      "      \"a\": \"Arthur Samuel\",\n",
      "      \"b\": \"Donald Hebb\",\n",
      "      \"c\": \"Raytheon Company\",\n",
      "      \"d\": \"Alan Turing\"\n",
      "    },\n",
      "    \"correct\": \"a\"\n",
      "  },\n",
      "  \"6\": {\n",
      "    \"mcq\": \"Which book introduced the theoretical neural structure formed by certain interactions among nerve cells?\",\n",
      "    \"options\": {\n",
      "      \"a\": \"The Organization of Behavior\",\n",
      "      \"b\": \"Computing Machinery and Intelligence\",\n",
      "      \"c\": \"Learning Machines\",\n",
      "      \"d\": \"Artificial Intelligence: A Modern Approach\"\n",
      "    },\n",
      "    \"correct\": \"a\"\n",
      "  },\n",
      "  \"7\": {\n",
      "    \"mcq\": \"Which company developed Cybertron, an experimental 'learning machine'?\",\n",
      "    \"options\": {\n",
      "      \"a\": \"Raytheon Company\",\n",
      "      \"b\": \"IBM\",\n",
      "      \"c\": \"Microsoft\",\n",
      "      \"d\": \"Google\"\n",
      "    },\n",
      "    \"correct\": \"a\"\n",
      "  },\n",
      "  \"8\": {\n",
      "    \"mcq\": \"What was Cybertron trained to recognize?\",\n",
      "    \"options\": {\n",
      "      \"a\": \"Sonar signals, electrocardiograms, and speech patterns\",\n",
      "      \"b\": \"Images and videos\",\n",
      "      \"c\": \"Text and documents\",\n",
      "      \"d\": \"Audio and speech\"\n",
      "    },\n",
      "    \"correct\": \"a\"\n",
      "  },\n",
      "  \"9\": {\n",
      "    \"mcq\": \"Which book is a representative book on research into machine learning during the 1960s?\",\n",
      "    \"options\": {\n",
      "      \"a\": \"Learning Machines\",\n",
      "      \"b\": \"The Organization of Behavior\",\n",
      "      \"c\": \"Artificial Intelligence: A Modern Approach\",\n",
      "      \"d\": \"Computing Machinery and Intelligence\"\n",
      "    },\n",
      "    \"correct\": \"a\"\n",
      "  },\n",
      "  \"10\": {\n",
      "    \"mcq\": \"Who provided a widely quoted, more formal definition of the algorithms studied in the machine learning field?\",\n",
      "    \"options\": {\n",
      "      \"a\": \"Arthur Samuel\",\n",
      "      \"b\": \"Donald Hebb\",\n",
      "      \"c\": \"Tom M. Mitchell\",\n",
      "      \"d\": \"Alan Turing\"\n",
      "    },\n",
      "    \"correct\": \"c\"\n",
      "  }\n",
      "}\n",
      "```\n",
      "              \n",
      "              check from an expert english writer of the above quiz                             \n",
      "                                       \u001b[0m\n",
      "\n",
      "\u001b[1m> Finished chain.\u001b[0m\n",
      "\n",
      "\u001b[1m> Finished chain.\u001b[0m\n"
     ]
    }
   ],
   "source": [
    "# How to setup token usage tracking in LangChain\n",
    "with get_openai_callback() as cb:\n",
    "    response=generate_evaluate_chain(\n",
    "        {\n",
    "            \"text\":TEXT,\n",
    "            \"number\":NUMBER,\n",
    "            \"subject\":SUBJECT,\n",
    "            \"tone\":TONE,\n",
    "            \"response_json\":json.dumps(RESPONSE_JSON)\n",
    "        }\n",
    "    )"
   ]
  },
  {
   "cell_type": "code",
   "execution_count": 124,
   "metadata": {},
   "outputs": [
    {
     "name": "stdout",
     "output_type": "stream",
     "text": [
      "Total Tokens: 0\n",
      "Prompt Token: 0\n",
      "Completion Token: 0\n",
      "Total Usage: 0.0\n"
     ]
    }
   ],
   "source": [
    "# IF you are using open ai gpt model for checking the token usage you can call the above and for view\n",
    "print(f\"Total Tokens: {cb.total_tokens}\")\n",
    "print(f\"Prompt Token: {cb.prompt_tokens}\")\n",
    "print(f\"Completion Token: {cb.completion_tokens}\")\n",
    "print(f\"Total Usage: {cb.total_cost}\")"
   ]
  },
  {
   "cell_type": "code",
   "execution_count": 37,
   "metadata": {},
   "outputs": [
    {
     "name": "stdout",
     "output_type": "stream",
     "text": [
      "\n",
      "\n",
      "\u001b[1m> Entering new SequentialChain chain...\u001b[0m\n",
      "\n",
      "\n",
      "\u001b[1m> Entering new LLMChain chain...\u001b[0m\n",
      "Prompt after formatting:\n",
      "\u001b[32;1m\u001b[1;3m\n",
      "                             Text:The term machine learning was coined in 1959 by Arthur Samuel, an IBM employee and pioneer in the field of computer gaming and artificial intelligence.[8][9] The synonym self-teaching computers was also used in this time period.[10][11]\n",
      "\n",
      "Although the earliest machine learning model was introduced in the 1950s when Arthur Samuel invented a program that calculated the winning chance in checkers for each side, the history of machine learning roots back to decades of human desire and effort to study human cognitive processes.[12] In 1949, Canadian psychologist Donald Hebb published the book The Organization of Behavior, in which he introduced a theoretical neural structure formed by certain interactions among nerve cells.[13] Hebb's model of neurons interacting with one another set a groundwork for how AIs and machine learning algorithms work under nodes, or artificial neurons used by computers to communicate data.[12] Other researchers who have studied human cognitive systems contributed to the modern machine learning technologies as well, including logician Walter Pitts and Warren McCulloch, who proposed the early mathematical models of neural networks to come up with algorithms that mirror human thought processes.[12]\n",
      "\n",
      "By the early 1960s, an experimental \"learning machine\" with punched tape memory, called Cybertron, had been developed by Raytheon Company to analyze sonar signals, electrocardiograms, and speech patterns using rudimentary reinforcement learning. It was repetitively \"trained\" by a human operator/teacher to recognize patterns and equipped with a \"goof\" button to cause it to reevaluate incorrect decisions.[14] A representative book on research into machine learning during the 1960s was Nilsson's book on Learning Machines, dealing mostly with machine learning for pattern classification.[15] Interest related to pattern recognition continued into the 1970s, as described by Duda and Hart in 1973.[16] In 1981 a report was given on using teaching strategies so that an artificial neural network learns to recognize 40 characters (26 letters, 10 digits, and 4 special symbols) from a computer terminal.[17]\n",
      "\n",
      "Tom M. Mitchell provided a widely quoted, more formal definition of the algorithms studied in the machine learning field: \"A computer program is said to learn from experience E with respect to some class of tasks T and performance measure P if its performance at tasks in T, as measured by P, improves with experience E.\"[18] This definition of the tasks in which machine learning is concerned offers a fundamentally operational definition rather than defining the field in cognitive terms. This follows Alan Turing's proposal in his paper \"Computing Machinery and Intelligence\", in which the question \"Can machines think?\" is replaced with the question \"Can machines do what we (as thinking entities) can do?\".[19]\n",
      "\n",
      "Modern-day machine learning has two objectives. One is to classify data based on models which have been developed; the other purpose is to make predictions for future outcomes based on these models. A hypothetical algorithm specific to classifying data may use computer vision of moles coupled with supervised learning in order to train it to classify the cancerous moles. A machine learning algorithm for stock trading may inform the trader of future potential predictions.[20]\n",
      "                             you are an expert mcq maker.given the above text, it is your job to                              create a quiz of 10 multiple choice question for MACHINE LEARNING students in intermediate tone.\n",
      "                             make sure the question are not repeated and check all the questions to be confirming the text as well.\n",
      "                             make sure to format your response like RESPONSE_JSON below and use it as a guide.                              ensure to make 10 mcqs\n",
      "                             ### RESPONSE_JSON\n",
      "                             {\"1\": {\"mcq\": \"multiple choice question\", \"options\": {\"a\": \"choice here\", \"b\": \"choice here\", \"c\": \"choice here\", \"d\": \"choice here\"}, \"correct\": \"correct answer\"}, \"2\": {\"mcq\": \"multiple choice question\", \"options\": {\"a\": \"choice here\", \"b\": \"choice here\", \"c\": \"choice here\", \"d\": \"choice here\"}, \"correct\": \"correct answer\"}, \"3\": {\"mcq\": \"multiple choice question\", \"options\": {\"a\": \"choice here\", \"b\": \"choice here\", \"c\": \"choice here\", \"d\": \"choice here\"}, \"correct\": \"correct answer\"}}\u001b[0m\n",
      "\n",
      "\u001b[1m> Finished chain.\u001b[0m\n",
      "\n",
      "\n",
      "\u001b[1m> Entering new LLMChain chain...\u001b[0m\n",
      "Prompt after formatting:\n",
      "\u001b[32;1m\u001b[1;3m\n",
      "                                       \n",
      "          you are an expert english grammarian and writer.given a multiple choice quiz for MACHINE LEARNING students.           you need to evaluate the complexity of the question and give a complete analysis of the quiz. only at max 50 words for complexity.\n",
      "          if the quiz is not at per the cognitive and analytical abilities of the students,               update the quiz question which need to be changed the tone such that it perfectly fitsthe student abilities\n",
      "              \n",
      "              Quiz_MCQS:\n",
      "              ```json\n",
      "{\n",
      "  \"1\": {\n",
      "    \"mcq\": \"The term machine learning was coined in which year?\",\n",
      "    \"options\": {\n",
      "      \"a\": \"1959\",\n",
      "      \"b\": \"1950\",\n",
      "      \"c\": \"1990\",\n",
      "      \"d\": \"1960\"\n",
      "    },\n",
      "    \"correct\": \"a\"\n",
      "  },\n",
      "  \"2\": {\n",
      "    \"mcq\": \"Who coined the term machine learning?\",\n",
      "    \"options\": {\n",
      "      \"a\": \"Arthur Samuel\",\n",
      "      \"b\": \"Raytheon Company\",\n",
      "      \"c\": \"Donald Hebb\",\n",
      "      \"d\": \"Tom M. Mitchell\"\n",
      "    },\n",
      "    \"correct\": \"a\"\n",
      "  },\n",
      "  \"3\": {\n",
      "    \"mcq\": \"Which company developed Cybertron, an experimental 'learning machine'?\",\n",
      "    \"options\": {\n",
      "      \"a\": \"Raytheon Company\",\n",
      "      \"b\": \"IBM\",\n",
      "      \"c\": \"Microsoft\",\n",
      "      \"d\": \"Google\"\n",
      "    },\n",
      "    \"correct\": \"a\"\n",
      "  },\n",
      "  \"4\": {\n",
      "    \"mcq\": \"What was Cybertron equipped with?\",\n",
      "    \"options\": {\n",
      "      \"a\": \"A 'goof' button\",\n",
      "      \"b\": \"A 'success' button\",\n",
      "      \"c\": \"A 'learning' button\",\n",
      "      \"d\": \"A 'reset' button\"\n",
      "    },\n",
      "    \"correct\": \"a\"\n",
      "  },\n",
      "  \"5\": {\n",
      "    \"mcq\": \"What is one of the two objectives of modern-day machine learning?\",\n",
      "    \"options\": {\n",
      "      \"a\": \"Classifying data based on models\",\n",
      "      \"b\": \"Developing new models\",\n",
      "      \"c\": \"Making physical products\",\n",
      "      \"d\": \"Writing computer programs\"\n",
      "    },\n",
      "    \"correct\": \"a\"\n",
      "  },\n",
      "  \"6\": {\n",
      "    \"mcq\": \"Which book introduced the concept of a theoretical neural structure formed by interactions among nerve cells?\",\n",
      "    \"options\": {\n",
      "      \"a\": \"The Organization of Behavior\",\n",
      "              \n",
      "              check from an expert english writer of the above quiz                             \n",
      "                                       \u001b[0m\n",
      "\n",
      "\u001b[1m> Finished chain.\u001b[0m\n",
      "\n",
      "\u001b[1m> Finished chain.\u001b[0m\n"
     ]
    }
   ],
   "source": [
    "response=generate_evaluate_chain(\n",
    "        {\n",
    "            \"text\":TEXT,\n",
    "            \"number\":NUMBER,\n",
    "            \"subject\":SUBJECT,\n",
    "            \"tone\":TONE,\n",
    "            \"response_json\":json.dumps(RESPONSE_JSON)\n",
    "        }\n",
    "    )"
   ]
  },
  {
   "cell_type": "code",
   "execution_count": 74,
   "metadata": {},
   "outputs": [
    {
     "name": "stdout",
     "output_type": "stream",
     "text": [
      "```json\n",
      "{\n",
      "  \"1\": {\n",
      "    \"mcq\": \"The term machine learning was coined in which year?\",\n",
      "    \"options\": {\n",
      "      \"a\": \"1949\",\n",
      "      \"b\": \"1950\",\n",
      "      \"c\": \"1959\",\n",
      "      \"d\": \"1960\"\n",
      "    },\n",
      "    \"correct\": \"c\"\n",
      "  },\n",
      "  \"2\": {\n",
      "    \"mcq\": \"Who is credited with coining the term 'machine learning'?\",\n",
      "    \"options\": {\n",
      "      \"a\": \"Raytheon Company\",\n",
      "      \"b\": \"Arthur Samuel\",\n",
      "      \"c\": \"Donald Hebb\",\n",
      "      \"d\": \"Walter Pitts\"\n",
      "    },\n",
      "    \"correct\": \"b\"\n",
      "  },\n",
      "  \"3\": {\n",
      "    \"mcq\": \"Which machine learning model was introduced in the 1950s by Arthur Samuel?\",\n",
      "    \"options\": {\n",
      "      \"a\": \"Checkers Winning Chance Calculator\",\n",
      "      \"b\": \"Stock Trading Predictor\",\n",
      "      \"c\": \"Neural Network Trainer\",\n",
      "      \"d\": \"Pattern Recognition Machine\"\n",
      "    },\n",
      "    \"correct\": \"a\"\n",
      "  },\n",
      "  \"4\": {\n",
      "    \"mcq\": \"What is the name of the machine developed by Raytheon Company in the early 1960s?\",\n",
      "    \"options\": {\n",
      "      \"a\": \"Cybertron\",\n",
      "      \"b\": \"NeuralNet\",\n",
      "      \"c\": \"PatternRecognizer\",\n",
      "      \"d\": \"AI Trainer\"\n",
      "    },\n",
      "    \"correct\": \"a\"\n",
      "  },\n",
      "  \"5\": {\n",
      "    \"mcq\": \"What is the first objective of modern-day machine learning?\",\n",
      "    \"options\": {\n",
      "      \"a\": \"Making predictions for future outcomes\",\n",
      "      \"b\": \"Predicting stock prices\",\n",
      "      \"c\": \"Classifying data based on models\",\n",
      "      \"d\": \"Training artificial neural networks\"\n",
      "    },\n",
      "    \"correct\": \"c\"\n",
      "  }\n",
      "}\n",
      "```\n"
     ]
    }
   ],
   "source": [
    "print(response[\"quiz\"])"
   ]
  },
  {
   "cell_type": "code",
   "execution_count": 46,
   "metadata": {},
   "outputs": [
    {
     "name": "stdout",
     "output_type": "stream",
     "text": [
      "### Analysis of the Quiz:\n",
      "\n",
      "1. **Question Complexity and Accuracy:**\n",
      "\n",
      "\n",
      "  * The questions are straightforward and cover key historical aspects of machine learning.\n",
      "  * They are relevant to the field of machine learning, providing an introduction to foundational concepts.\n",
      "  * The language used is simple and clear, making it accessible to students with a basic understanding of the subject.\n",
      "\t\n",
      "2. **Correctness and Specificity:**\n",
      "\n",
      "\n",
      "  * The questions are specific and correctly focus on historical facts and key developments in machine learning.\n",
      "  * The options provided are clear and concise, with the correct answer being evident for those familiar with the material.\n",
      "\t\n",
      "3. **Cognitive and Analytical Demand:**\n",
      "\n",
      "\n",
      "  * The questions are at an appropriate level for introductory-level students.\n",
      "  * They do not require high-level analytical skills but rather aim to test basic knowledge and understanding.\n",
      "\t\n",
      "4. **Potential Improvements:**\n",
      "\n",
      "\n",
      "  * While the questions are accurate, they could be expanded slightly to encourage deeper thinking.\n",
      "  * For example, expanding on why a particular individual is significant or asking for additional context could enhance the quiz.\n",
      "\n",
      "\n",
      "### Updated Quiz to Improve Engagement and Complexity:\n",
      "\n",
      "1. **Question 1: Slightly Expanded for Context**\n",
      "\n",
      "\n",
      "  * **Original:** \"The term machine learning was coined in which year?\"\n",
      "  * **Updated:** \"The term 'machine learning' was coined in 1959. Who is credited with this achievement?\"\n",
      "  * **Options:** a) Arthur Samuel, b) Donald Hebb, c) Raytheon Company, d) Alan Turing\n",
      "  * **Correct Answer:** a\n",
      "\t\n",
      "2. **Question 2: Added Context for Better Understanding**\n",
      "\n",
      "\n",
      "  * **Original:** \"Who coined the term machine learning?\"\n",
      "  * **Updated:** \"Why is Arthur Samuel significant in the field of machine learning, and what did he coin?\"\n",
      "  * **Options:** a) Machine Learning, b) Neural Networks, c) Artificial Intelligence, d) Pattern Recognition\n",
      "  * **Correct Answer:** a\n",
      "\t\n",
      "3. **Question 3: Added Historical Context and Options**\n",
      "\n",
      "\n",
      "  * **Original:** \"What is the synonym for machine learning, used in the 1950s?\"\n",
      "  * **Updated:** \"In the 1950s, '\n"
     ]
    }
   ],
   "source": [
    "print(response[\"review\"])"
   ]
  },
  {
   "cell_type": "code",
   "execution_count": 125,
   "metadata": {},
   "outputs": [],
   "source": [
    "quiz=response[\"quiz\"]"
   ]
  },
  {
   "cell_type": "code",
   "execution_count": 126,
   "metadata": {},
   "outputs": [
    {
     "name": "stdout",
     "output_type": "stream",
     "text": [
      "JSON data is empty or invalid!\n"
     ]
    }
   ],
   "source": [
    "import json\n",
    "\n",
    "json_data = \"\"  # Replace this with your JSON string or source\n",
    "if not json_data.strip():\n",
    "    print(\"JSON data is empty or invalid!\")\n",
    "else:\n",
    "    parsed_data = json.loads(quiz)\n"
   ]
  },
  {
   "cell_type": "code",
   "execution_count": 79,
   "metadata": {},
   "outputs": [],
   "source": [
    "import pandas  as pd\n"
   ]
  },
  {
   "cell_type": "code",
   "execution_count": 82,
   "metadata": {},
   "outputs": [],
   "source": [
    "quiz=quiz.replace(\"json\",\"\")"
   ]
  },
  {
   "cell_type": "code",
   "execution_count": 84,
   "metadata": {},
   "outputs": [
    {
     "ename": "JSONDecodeError",
     "evalue": "Expecting value: line 1 column 1 (char 0)",
     "output_type": "error",
     "traceback": [
      "\u001b[1;31m---------------------------------------------------------------------------\u001b[0m",
      "\u001b[1;31mJSONDecodeError\u001b[0m                           Traceback (most recent call last)",
      "Cell \u001b[1;32mIn[84], line 7\u001b[0m\n\u001b[0;32m      5\u001b[0m     \u001b[38;5;28mprint\u001b[39m(\u001b[38;5;124m\"\u001b[39m\u001b[38;5;124mJSON data is empty or invalid!\u001b[39m\u001b[38;5;124m\"\u001b[39m)\n\u001b[0;32m      6\u001b[0m \u001b[38;5;28;01melse\u001b[39;00m:\n\u001b[1;32m----> 7\u001b[0m     parsed_data \u001b[38;5;241m=\u001b[39m \u001b[43mjson\u001b[49m\u001b[38;5;241;43m.\u001b[39;49m\u001b[43mloads\u001b[49m\u001b[43m(\u001b[49m\u001b[43mquiz\u001b[49m\u001b[43m)\u001b[49m\n",
      "File \u001b[1;32mc:\\Anaconda3\\envs\\mcq\\Lib\\json\\__init__.py:346\u001b[0m, in \u001b[0;36mloads\u001b[1;34m(s, cls, object_hook, parse_float, parse_int, parse_constant, object_pairs_hook, **kw)\u001b[0m\n\u001b[0;32m    341\u001b[0m     s \u001b[38;5;241m=\u001b[39m s\u001b[38;5;241m.\u001b[39mdecode(detect_encoding(s), \u001b[38;5;124m'\u001b[39m\u001b[38;5;124msurrogatepass\u001b[39m\u001b[38;5;124m'\u001b[39m)\n\u001b[0;32m    343\u001b[0m \u001b[38;5;28;01mif\u001b[39;00m (\u001b[38;5;28mcls\u001b[39m \u001b[38;5;129;01mis\u001b[39;00m \u001b[38;5;28;01mNone\u001b[39;00m \u001b[38;5;129;01mand\u001b[39;00m object_hook \u001b[38;5;129;01mis\u001b[39;00m \u001b[38;5;28;01mNone\u001b[39;00m \u001b[38;5;129;01mand\u001b[39;00m\n\u001b[0;32m    344\u001b[0m         parse_int \u001b[38;5;129;01mis\u001b[39;00m \u001b[38;5;28;01mNone\u001b[39;00m \u001b[38;5;129;01mand\u001b[39;00m parse_float \u001b[38;5;129;01mis\u001b[39;00m \u001b[38;5;28;01mNone\u001b[39;00m \u001b[38;5;129;01mand\u001b[39;00m\n\u001b[0;32m    345\u001b[0m         parse_constant \u001b[38;5;129;01mis\u001b[39;00m \u001b[38;5;28;01mNone\u001b[39;00m \u001b[38;5;129;01mand\u001b[39;00m object_pairs_hook \u001b[38;5;129;01mis\u001b[39;00m \u001b[38;5;28;01mNone\u001b[39;00m \u001b[38;5;129;01mand\u001b[39;00m \u001b[38;5;129;01mnot\u001b[39;00m kw):\n\u001b[1;32m--> 346\u001b[0m     \u001b[38;5;28;01mreturn\u001b[39;00m \u001b[43m_default_decoder\u001b[49m\u001b[38;5;241;43m.\u001b[39;49m\u001b[43mdecode\u001b[49m\u001b[43m(\u001b[49m\u001b[43ms\u001b[49m\u001b[43m)\u001b[49m\n\u001b[0;32m    347\u001b[0m \u001b[38;5;28;01mif\u001b[39;00m \u001b[38;5;28mcls\u001b[39m \u001b[38;5;129;01mis\u001b[39;00m \u001b[38;5;28;01mNone\u001b[39;00m:\n\u001b[0;32m    348\u001b[0m     \u001b[38;5;28mcls\u001b[39m \u001b[38;5;241m=\u001b[39m JSONDecoder\n",
      "File \u001b[1;32mc:\\Anaconda3\\envs\\mcq\\Lib\\json\\decoder.py:337\u001b[0m, in \u001b[0;36mJSONDecoder.decode\u001b[1;34m(self, s, _w)\u001b[0m\n\u001b[0;32m    332\u001b[0m \u001b[38;5;28;01mdef\u001b[39;00m \u001b[38;5;21mdecode\u001b[39m(\u001b[38;5;28mself\u001b[39m, s, _w\u001b[38;5;241m=\u001b[39mWHITESPACE\u001b[38;5;241m.\u001b[39mmatch):\n\u001b[0;32m    333\u001b[0m \u001b[38;5;250m    \u001b[39m\u001b[38;5;124;03m\"\"\"Return the Python representation of ``s`` (a ``str`` instance\u001b[39;00m\n\u001b[0;32m    334\u001b[0m \u001b[38;5;124;03m    containing a JSON document).\u001b[39;00m\n\u001b[0;32m    335\u001b[0m \n\u001b[0;32m    336\u001b[0m \u001b[38;5;124;03m    \"\"\"\u001b[39;00m\n\u001b[1;32m--> 337\u001b[0m     obj, end \u001b[38;5;241m=\u001b[39m \u001b[38;5;28;43mself\u001b[39;49m\u001b[38;5;241;43m.\u001b[39;49m\u001b[43mraw_decode\u001b[49m\u001b[43m(\u001b[49m\u001b[43ms\u001b[49m\u001b[43m,\u001b[49m\u001b[43m \u001b[49m\u001b[43midx\u001b[49m\u001b[38;5;241;43m=\u001b[39;49m\u001b[43m_w\u001b[49m\u001b[43m(\u001b[49m\u001b[43ms\u001b[49m\u001b[43m,\u001b[49m\u001b[43m \u001b[49m\u001b[38;5;241;43m0\u001b[39;49m\u001b[43m)\u001b[49m\u001b[38;5;241;43m.\u001b[39;49m\u001b[43mend\u001b[49m\u001b[43m(\u001b[49m\u001b[43m)\u001b[49m\u001b[43m)\u001b[49m\n\u001b[0;32m    338\u001b[0m     end \u001b[38;5;241m=\u001b[39m _w(s, end)\u001b[38;5;241m.\u001b[39mend()\n\u001b[0;32m    339\u001b[0m     \u001b[38;5;28;01mif\u001b[39;00m end \u001b[38;5;241m!=\u001b[39m \u001b[38;5;28mlen\u001b[39m(s):\n",
      "File \u001b[1;32mc:\\Anaconda3\\envs\\mcq\\Lib\\json\\decoder.py:355\u001b[0m, in \u001b[0;36mJSONDecoder.raw_decode\u001b[1;34m(self, s, idx)\u001b[0m\n\u001b[0;32m    353\u001b[0m     obj, end \u001b[38;5;241m=\u001b[39m \u001b[38;5;28mself\u001b[39m\u001b[38;5;241m.\u001b[39mscan_once(s, idx)\n\u001b[0;32m    354\u001b[0m \u001b[38;5;28;01mexcept\u001b[39;00m \u001b[38;5;167;01mStopIteration\u001b[39;00m \u001b[38;5;28;01mas\u001b[39;00m err:\n\u001b[1;32m--> 355\u001b[0m     \u001b[38;5;28;01mraise\u001b[39;00m JSONDecodeError(\u001b[38;5;124m\"\u001b[39m\u001b[38;5;124mExpecting value\u001b[39m\u001b[38;5;124m\"\u001b[39m, s, err\u001b[38;5;241m.\u001b[39mvalue) \u001b[38;5;28;01mfrom\u001b[39;00m \u001b[38;5;28;01mNone\u001b[39;00m\n\u001b[0;32m    356\u001b[0m \u001b[38;5;28;01mreturn\u001b[39;00m obj, end\n",
      "\u001b[1;31mJSONDecodeError\u001b[0m: Expecting value: line 1 column 1 (char 0)"
     ]
    }
   ],
   "source": [
    "import json\n",
    "\n",
    "json_data = quiz  # Replace this with your JSON string or source\n",
    "if not json_data.strip():\n",
    "    print(\"JSON data is empty or invalid!\")\n",
    "else:\n",
    "    parsed_data = json.loads(quiz)\n"
   ]
  },
  {
   "cell_type": "code",
   "execution_count": 135,
   "metadata": {},
   "outputs": [],
   "source": [
    "quiz=json.loads(quiz.replace(\"json\",\"\").replace(\"```\",\"\").replace(\"\\n\",\"\").strip())"
   ]
  },
  {
   "cell_type": "code",
   "execution_count": 136,
   "metadata": {},
   "outputs": [],
   "source": [
    "quiz_table_data=[]\n",
    "for key,value in quiz.items():\n",
    "    mcq=value[\"mcq\"]\n",
    "    options=\" | \".join(\n",
    "        [\n",
    "            f\"{option}: {option_value} \"\n",
    "            for option,option_value in value[\"options\"].items()\n",
    "        ]\n",
    "    )\n",
    "    correct=value[\"correct\"]\n",
    "    quiz_table_data.append({\"MCQ\":mcq,\"Choices\":options,\"Correct\":correct})"
   ]
  },
  {
   "cell_type": "code",
   "execution_count": 137,
   "metadata": {},
   "outputs": [
    {
     "name": "stdout",
     "output_type": "stream",
     "text": [
      "dict_items([('a', '1959'), ('b', '1961'), ('c', '1950'), ('d', '1970')])\n",
      "dict_items([('a', 'Arthur Samuel'), ('b', 'Donald Hebb'), ('c', 'Walter Pitts'), ('d', 'Warren McCulloch')])\n",
      "dict_items([('a', 'Self-teaching computers'), ('b', 'Artificial intelligence'), ('c', 'Computer gaming'), ('d', 'Pattern recognition')])\n",
      "dict_items([('a', '1950s'), ('b', '1940s'), ('c', '1960s'), ('d', '1980s')])\n",
      "dict_items([('a', 'Arthur Samuel'), ('b', 'Donald Hebb'), ('c', 'Raytheon Company'), ('d', 'Alan Turing')])\n",
      "dict_items([('a', 'The Organization of Behavior'), ('b', 'Computing Machinery and Intelligence'), ('c', 'Learning Machines'), ('d', 'Artificial Intelligence: A Modern Approach')])\n",
      "dict_items([('a', 'Raytheon Company'), ('b', 'IBM'), ('c', 'Microsoft'), ('d', 'Google')])\n",
      "dict_items([('a', 'Sonar signals, electrocardiograms, and speech patterns'), ('b', 'Images and videos'), ('c', 'Text and documents'), ('d', 'Audio and speech')])\n",
      "dict_items([('a', 'Learning Machines'), ('b', 'The Organization of Behavior'), ('c', 'Artificial Intelligence: A Modern Approach'), ('d', 'Computing Machinery and Intelligence')])\n",
      "dict_items([('a', 'Arthur Samuel'), ('b', 'Donald Hebb'), ('c', 'Tom M. Mitchell'), ('d', 'Alan Turing')])\n"
     ]
    }
   ],
   "source": [
    "for key,value in quiz.items():\n",
    "    # print(f\"{key} ||| {value}[]\")\n",
    "    print(value[\"options\"].items())"
   ]
  },
  {
   "cell_type": "code",
   "execution_count": 111,
   "metadata": {},
   "outputs": [
    {
     "data": {
      "text/plain": [
       "[{'MCQ': 'Thetermmachinelearningwascoinedinwhichyear?',\n",
       "  'Choices': 'a: 1949  | b: 1950  | c: 1959  | d: 1960 ',\n",
       "  'Correct': 'c'},\n",
       " {'MCQ': \"Whoiscreditedwithcoiningtheterm'machinelearning'?\",\n",
       "  'Choices': 'a: RaytheonCompany  | b: ArthurSamuel  | c: DonaldHebb  | d: WalterPitts ',\n",
       "  'Correct': 'b'},\n",
       " {'MCQ': 'Whichmachinelearningmodelwasintroducedinthe1950sbyArthurSamuel?',\n",
       "  'Choices': 'a: CheckersWinningChanceCalculator  | b: StockTradingPredictor  | c: NeuralNetworkTrainer  | d: PatternRecognitionMachine ',\n",
       "  'Correct': 'a'},\n",
       " {'MCQ': 'WhatisthenameofthemachinedevelopedbyRaytheonCompanyintheearly1960s?',\n",
       "  'Choices': 'a: Cybertron  | b: NeuralNet  | c: PatternRecognizer  | d: AITrainer ',\n",
       "  'Correct': 'a'},\n",
       " {'MCQ': 'Whatisthefirstobjectiveofmodern-daymachinelearning?',\n",
       "  'Choices': 'a: Makingpredictionsforfutureoutcomes  | b: Predictingstockprices  | c: Classifyingdatabasedonmodels  | d: Trainingartificialneuralnetworks ',\n",
       "  'Correct': 'c'}]"
      ]
     },
     "execution_count": 111,
     "metadata": {},
     "output_type": "execute_result"
    }
   ],
   "source": [
    "quiz_table_data"
   ]
  },
  {
   "cell_type": "code",
   "execution_count": 138,
   "metadata": {},
   "outputs": [],
   "source": [
    "quiz=pd.DataFrame(quiz_table_data)"
   ]
  },
  {
   "cell_type": "code",
   "execution_count": 139,
   "metadata": {},
   "outputs": [],
   "source": [
    "quiz.to_csv(\"machinelearning2.csv\",index=False)"
   ]
  },
  {
   "cell_type": "code",
   "execution_count": null,
   "metadata": {},
   "outputs": [],
   "source": []
  },
  {
   "cell_type": "code",
   "execution_count": null,
   "metadata": {},
   "outputs": [],
   "source": []
  }
 ],
 "metadata": {
  "kernelspec": {
   "display_name": "mcq",
   "language": "python",
   "name": "python3"
  },
  "language_info": {
   "codemirror_mode": {
    "name": "ipython",
    "version": 3
   },
   "file_extension": ".py",
   "mimetype": "text/x-python",
   "name": "python",
   "nbconvert_exporter": "python",
   "pygments_lexer": "ipython3",
   "version": "3.11.11"
  }
 },
 "nbformat": 4,
 "nbformat_minor": 2
}
